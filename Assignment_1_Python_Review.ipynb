{
  "cells": [
    {
      "cell_type": "markdown",
      "metadata": {
        "id": "view-in-github",
        "colab_type": "text"
      },
      "source": [
        "<a href=\"https://colab.research.google.com/github/AmalGassem/project/blob/main/Assignment_1_Python_Review.ipynb\" target=\"_parent\"><img src=\"https://colab.research.google.com/assets/colab-badge.svg\" alt=\"Open In Colab\"/></a>"
      ]
    },
    {
      "cell_type": "markdown",
      "id": "1d17886d",
      "metadata": {
        "id": "1d17886d"
      },
      "source": [
        "# Assignment 1 - Python Review"
      ]
    },
    {
      "cell_type": "markdown",
      "id": "0864cacd",
      "metadata": {
        "id": "0864cacd"
      },
      "source": [
        "# In this assignment you will have 2 tasks"
      ]
    },
    {
      "cell_type": "markdown",
      "id": "f2f68f67",
      "metadata": {
        "id": "f2f68f67"
      },
      "source": [
        "## task 1:\n",
        "### build a number book and make it has these attributes: names, IDs, and phone numbers\n",
        "##### hint: use dictionary\n",
        "### the results should be:\n",
        "- print the whole number book\n",
        "- print the first name\n",
        "- print the last phone number"
      ]
    },
    {
      "cell_type": "code",
      "execution_count": 18,
      "id": "31442fc0",
      "metadata": {
        "colab": {
          "base_uri": "https://localhost:8080/"
        },
        "id": "31442fc0",
        "outputId": "42928711-417f-48e8-cf92-158f899557e8"
      },
      "outputs": [
        {
          "output_type": "stream",
          "name": "stdout",
          "text": [
            "Number Book:\n",
            "\n",
            "Name: book1\n",
            "ID: 1325\n",
            "Phone Number: 080-780-5464\n",
            "\n",
            "Name: book2\n",
            "ID: 6546\n",
            "Phone Number: 124-765-0989\n",
            "\n",
            "Name: book3\n",
            "ID: 8766\n",
            "Phone Number: 036-909-0076\n",
            "\n",
            "\n",
            "First Name: book1\n",
            "\n",
            "Last Phone Number: 036-909-0076\n"
          ]
        }
      ],
      "source": [
        "numberBook = {\n",
        "    'book1': {\n",
        "        'ID': '1325',\n",
        "        'Phone Number': '080-780-5464'\n",
        "    },\n",
        "    'book2': {\n",
        "        'ID': '6546',\n",
        "        'Phone Number': '124-765-0989'\n",
        "    },\n",
        "    'book3': {\n",
        "        'ID': '8766',\n",
        "        'Phone Number': '036-909-0076'\n",
        "    }\n",
        "}\n",
        "\n",
        "print(\"Number Book:\\n\")\n",
        "for name, details in numberBook.items():\n",
        "    print(\"Name:\", name)\n",
        "    print(\"ID:\", details['ID'])\n",
        "    print(\"Phone Number:\", details['Phone Number'])\n",
        "    print()\n",
        "\n",
        "first_name = list(numberBook.keys())[0]\n",
        "print(\"\\nFirst Name:\", first_name)\n",
        "\n",
        "last_name = list(numberBook.keys())[-1]\n",
        "last_phone_number = numberBook[last_name]['Phone Number']\n",
        "print(\"\\nLast Phone Number:\", last_phone_number)\n"
      ]
    },
    {
      "cell_type": "markdown",
      "id": "8edc4387",
      "metadata": {
        "id": "8edc4387"
      },
      "source": [
        "## task 2:\n",
        "### print the squared of these numbers: 4, 3\n",
        "### write an if statement that compare between them\n",
        "#### (note: you have to write the whole comparison operators: >, <, ==, !=)\n",
        "### the results should be:\n",
        "- print the squared of 2 numbers\n",
        "- compare between the 2 squared numbers"
      ]
    },
    {
      "cell_type": "code",
      "source": [
        "num1 = 4\n",
        "num2 = 3\n",
        "squareNum1 = num1 ** 2\n",
        "squareNum2 = num2 ** 2\n",
        "\n",
        "print(\"Squared Numbers:\\n\")\n",
        "print(\"Number 1 squared:\", squareNum1)\n",
        "print(\"Number 2 squared:\", squareNum2)\n",
        "\n",
        "if squareNum1 > squareNum2:\n",
        "    print(f\"\\n{squareNum1} is greater than {squareNum2}\")\n",
        "elif squareNum1 < squareNum2:\n",
        "    print(f\"\\n{squareNum1} is less than {squareNum2}\")\n",
        "elif squareNum1 == squareNum2:\n",
        "    print(f\"\\n{squareNum1} is equal to {squareNum2}\")\n",
        "else:\n",
        "    print(f\"\\n{squareNum1} is not equal to {squareNum2}\")"
      ],
      "metadata": {
        "colab": {
          "base_uri": "https://localhost:8080/"
        },
        "id": "wXcrsPZGQ-d4",
        "outputId": "0a3ce540-83b3-4592-9456-f9cce4404389"
      },
      "id": "wXcrsPZGQ-d4",
      "execution_count": 19,
      "outputs": [
        {
          "output_type": "stream",
          "name": "stdout",
          "text": [
            "Squared Numbers:\n",
            "\n",
            "Number 1 squared: 16\n",
            "Number 2 squared: 9\n",
            "\n",
            "16 is greater than 9\n"
          ]
        }
      ]
    }
  ],
  "metadata": {
    "kernelspec": {
      "display_name": "Python 3 (ipykernel)",
      "language": "python",
      "name": "python3"
    },
    "language_info": {
      "codemirror_mode": {
        "name": "ipython",
        "version": 3
      },
      "file_extension": ".py",
      "mimetype": "text/x-python",
      "name": "python",
      "nbconvert_exporter": "python",
      "pygments_lexer": "ipython3",
      "version": "3.11.5"
    },
    "colab": {
      "provenance": [],
      "include_colab_link": true
    }
  },
  "nbformat": 4,
  "nbformat_minor": 5
}